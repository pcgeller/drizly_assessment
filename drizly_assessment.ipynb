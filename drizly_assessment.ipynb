{
 "cells": [
  {
   "cell_type": "markdown",
   "metadata": {
    "collapsed": true,
    "pycharm": {
     "name": "#%% md\n"
    }
   },
   "source": [
    "These queries follow the SQLite dialect.  Some changes (such replacing the CASE with the monthname function in question\n",
    "4 would be made for other dialects.\n",
    "\n",
    "Some queries were tested using sqldf in Python 3.8.\n"
   ]
  },
  {
   "cell_type": "markdown",
   "source": [
    "### Question 1"
   ],
   "metadata": {
    "collapsed": false,
    "pycharm": {
     "name": "#%% md\n"
    }
   }
  },
  {
   "cell_type": "code",
   "execution_count": null,
   "outputs": [],
   "source": [
    "query1 = \"\"\"SELECT *\n",
    "                FROM dates\n",
    "                LEFT JOIN (SELECT SUM(s.UNIT_PRICE * s.QUANTITY) as TOTAL,\n",
    "                                b.BRAND_NAME,\n",
    "                                DATE(s.DATE) as DATE_ONLY\n",
    "                            FROM store_table s\n",
    "                            INNER JOIN brand_table b\n",
    "                            ON s.BRAND_ID = b.BRAND_ID\n",
    "                                WHERE HOLDING_COMPANY_NAME = \"Beam Suntory\"\n",
    "                            GROUP BY BRAND_NAME, DATE(s.DATE)) AS sub\n",
    "                ON DATE(DATE) = sub.DATE_ONLY\n",
    "                WHERE DATE(DATE) BETWEEN '2020-03-13' AND '2020-06-27'\"\"\"\n",
    "\n"
   ],
   "metadata": {
    "collapsed": false,
    "pycharm": {
     "name": "#%%\n"
    }
   }
  },
  {
   "cell_type": "markdown",
   "source": [
    "### Question 2"
   ],
   "metadata": {
    "collapsed": false,
    "pycharm": {
     "name": "#%% md\n"
    }
   }
  },
  {
   "cell_type": "code",
   "execution_count": null,
   "outputs": [],
   "source": [
    "query2 = \"\"\"SELECT s.PRODUCT_ID, s.STORE_ID\n",
    "            FROM store_table s\n",
    "            INNER JOIN\n",
    "                (SELECT PRODUCT_ID, min(DATE(DATE)), STORE_ID AS first_purchase\n",
    "            FROM store_table\n",
    "            WHERE STRFTIME('%Y', DATE(DATE)) = 2019);\"\"\""
   ],
   "metadata": {
    "collapsed": false,
    "pycharm": {
     "name": "#%%\n"
    }
   }
  },
  {
   "cell_type": "markdown",
   "source": [
    "### Question 3"
   ],
   "metadata": {
    "collapsed": false,
    "pycharm": {
     "name": "#%% md\n"
    }
   }
  },
  {
   "cell_type": "code",
   "execution_count": null,
   "outputs": [],
   "source": [
    "query3 = \"\"\"SELECT\n",
    "                STORE_ID,\n",
    "                count(*) as total_orders\n",
    "            FROM\n",
    "                store_table\n",
    "            WHERE\n",
    "                DATE(DATE) between '2019-12-01' and '2019-12-31'\n",
    "            GROUP BY 1;\"\"\""
   ],
   "metadata": {
    "collapsed": false,
    "pycharm": {
     "name": "#%%\n"
    }
   }
  },
  {
   "cell_type": "markdown",
   "source": [
    "This query may differ from the stores records because the same order number appears multiple times per store.\n",
    "This would cause an over count in the number of orders because each order is counted more than once."
   ],
   "metadata": {
    "collapsed": false,
    "pycharm": {
     "name": "#%% md\n"
    }
   }
  },
  {
   "cell_type": "markdown",
   "source": [
    "### Question 4\n",
    "This contains a hacky conversion from month number to month name because SQLite doesn't support MONTHNAME (which would be\n",
    "preferred over the (CASE strftime...) statement."
   ],
   "metadata": {
    "collapsed": false,
    "pycharm": {
     "name": "#%% md\n"
    }
   }
  },
  {
   "cell_type": "code",
   "execution_count": null,
   "outputs": [],
   "source": [
    "query4 = \"\"\"SELECT DISTINCT s.ORDER_ID,\n",
    "                CASE\n",
    "                    WHEN EXISTS (SELECT s2.ORDER_ID, s2.DATE FROM store_table s2\n",
    "                                    WHERE\n",
    "                                  (CASE strftime('%m', date(s2.DATE)) WHEN '01' THEN 'January' WHEN '02' THEN 'February' WHEN '03' THEN 'March' WHEN '04' THEN 'April' WHEN '05' THEN 'May' WHEN '06' THEN 'June' WHEN '07' THEN 'July' WHEN '08' THEN 'August' WHEN '09' THEN 'September' WHEN '10' THEN 'October' WHEN '11' THEN 'November' WHEN '12' THEN 'December' ELSE ''\n",
    "                                        end) LIKE '%r')\n",
    "                                THEN 'Y'\n",
    "                                ELSE 'N'\n",
    "                END month_ending_in_r,\n",
    "                CASE\n",
    "                    WHEN EXISTS (SELECT s3.ORDER_ID, s3.PRODUCT_ID, s3.QUANTITY\n",
    "                                    FROM store_table s3\n",
    "                                    WHERE s.ORDER_ID = s3.ORDER_ID\n",
    "                                    GROUP BY s3.ORDER_ID, s3.PRODUCT_ID\n",
    "                                    HAVING QUANTITY > 1)\n",
    "                        THEN 'Y'\n",
    "                        ELSE 'N'\n",
    "                END contains_product_qty_greater_than_1\n",
    "                FROM store_table s;\"\"\""
   ],
   "metadata": {
    "collapsed": false,
    "pycharm": {
     "name": "#%%\n"
    }
   }
  },
  {
   "cell_type": "markdown",
   "source": [
    "### Question 5\n",
    "\n",
    "I ran out of time working on this question and was unable to verify the results."
   ],
   "metadata": {
    "collapsed": false,
    "pycharm": {
     "name": "#%% md\n"
    }
   }
  },
  {
   "cell_type": "code",
   "execution_count": null,
   "outputs": [],
   "source": [
    "query5 = \"\"\"SELECT count(DISTINCT USER_ID)\n",
    "                FROM (SELECT s.USER_ID, s.ORDER_ID, date(s.DATE) AS DATEONLY, s.BRAND_ID, count(ORDER_ID)\n",
    "                    FROM store_table s\n",
    "                LEFT JOIN (SELECT b.BRAND_ID, b.HOLDING_COMPANY_NAME FROM brand_table b) as hc\n",
    "                ON s.BRAND_ID = hc.BRAND_ID\n",
    "                WHERE HOLDING_COMPANY_NAME = 'Diageo'\n",
    "                GROUP BY\n",
    "                        USER_ID,\n",
    "                        ORDER_ID\n",
    "                HAVING count(DISTINCT ORDER_ID) >= 3)\n",
    "                WHERE DATEONLY >= '2020-07-15'\"\"\""
   ],
   "metadata": {
    "collapsed": false,
    "pycharm": {
     "name": "#%%\n"
    }
   }
  },
  {
   "cell_type": "markdown",
   "source": [
    "### Question 6"
   ],
   "metadata": {
    "collapsed": false,
    "pycharm": {
     "name": "#%% md\n"
    }
   }
  },
  {
   "cell_type": "markdown",
   "source": [
    "This regex will match only numbers between pipe delmiters.  It will ignore the starting header (\"stores-\") as long as\n",
    "the header contains a \"-\" at the end.\n",
    "This was tested with global search on.\n",
    "```(?<=\\-)(\\d*?)(?=\\|)|(?<=\\|)(\\d*?)(?=\\|)|(?<=\\|)(\\d*?)(?=$|\\s|\\D)```\n",
    "\n",
    "\n"
   ],
   "metadata": {
    "collapsed": false,
    "pycharm": {
     "name": "#%% md\n"
    }
   }
  }
 ],
 "metadata": {
  "kernelspec": {
   "display_name": "Python 3",
   "language": "python",
   "name": "python3"
  },
  "language_info": {
   "codemirror_mode": {
    "name": "ipython",
    "version": 2
   },
   "file_extension": ".py",
   "mimetype": "text/x-python",
   "name": "python",
   "nbconvert_exporter": "python",
   "pygments_lexer": "ipython2",
   "version": "2.7.6"
  }
 },
 "nbformat": 4,
 "nbformat_minor": 0
}