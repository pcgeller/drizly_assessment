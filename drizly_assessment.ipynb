{
 "cells": [
  {
   "cell_type": "markdown",
   "metadata": {
    "collapsed": true,
    "pycharm": {
     "name": "#%% md\n"
    }
   },
   "source": [
    "These queries follow the SQLite dialect.  Some changes (such replacing the CASE with the monthname function in question\n",
    "4 would be made for other dialects.\n"
   ]
  },
  {
   "cell_type": "markdown",
   "source": [
    "### Question 1"
   ],
   "metadata": {
    "collapsed": false,
    "pycharm": {
     "name": "#%% md\n"
    }
   }
  },
  {
   "cell_type": "code",
   "execution_count": 228,
   "outputs": [
    {
     "data": {
      "text/plain": "                          DATE  TOTAL    BRAND_NAME   DATE_ONLY\n0   2020-07-01 00:00:00.000000    NaN          None        None\n1   2020-07-02 00:00:00.000000  88.58  Maker's Mark  2020-07-02\n2   2020-07-03 00:00:00.000000    NaN          None        None\n3   2020-07-04 00:00:00.000000    NaN          None        None\n4   2020-07-05 00:00:00.000000    NaN          None        None\n5   2020-07-06 00:00:00.000000    NaN          None        None\n6   2020-07-07 00:00:00.000000    NaN          None        None\n7   2020-07-08 00:00:00.000000    NaN          None        None\n8   2020-07-09 00:00:00.000000  23.99  Maker's Mark  2020-07-09\n9   2020-07-10 00:00:00.000000    NaN          None        None\n10  2020-07-11 00:00:00.000000    NaN          None        None\n11  2020-07-12 00:00:00.000000    NaN          None        None\n12  2020-07-13 00:00:00.000000    NaN          None        None\n13  2020-07-14 00:00:00.000000    NaN          None        None\n14  2020-07-15 00:00:00.000000    NaN          None        None\n15  2020-07-16 00:00:00.000000    NaN          None        None\n16  2020-07-17 00:00:00.000000  32.99  Maker's Mark  2020-07-17\n17  2020-07-18 00:00:00.000000  28.70  Maker's Mark  2020-07-18\n18  2020-07-19 00:00:00.000000    NaN          None        None\n19  2020-07-20 00:00:00.000000    NaN          None        None\n20  2020-07-21 00:00:00.000000  26.99  Maker's Mark  2020-07-21\n21  2020-07-22 00:00:00.000000    NaN          None        None\n22  2020-07-23 00:00:00.000000    NaN          None        None\n23  2020-07-24 00:00:00.000000    NaN          None        None\n24  2020-07-25 00:00:00.000000    NaN          None        None\n25  2020-07-26 00:00:00.000000    NaN          None        None\n26  2020-07-27 00:00:00.000000  24.99  Maker's Mark  2020-07-27\n27  2020-07-28 00:00:00.000000    NaN          None        None",
      "text/html": "<div>\n<style scoped>\n    .dataframe tbody tr th:only-of-type {\n        vertical-align: middle;\n    }\n\n    .dataframe tbody tr th {\n        vertical-align: top;\n    }\n\n    .dataframe thead th {\n        text-align: right;\n    }\n</style>\n<table border=\"1\" class=\"dataframe\">\n  <thead>\n    <tr style=\"text-align: right;\">\n      <th></th>\n      <th>DATE</th>\n      <th>TOTAL</th>\n      <th>BRAND_NAME</th>\n      <th>DATE_ONLY</th>\n    </tr>\n  </thead>\n  <tbody>\n    <tr>\n      <th>0</th>\n      <td>2020-07-01 00:00:00.000000</td>\n      <td>NaN</td>\n      <td>None</td>\n      <td>None</td>\n    </tr>\n    <tr>\n      <th>1</th>\n      <td>2020-07-02 00:00:00.000000</td>\n      <td>88.58</td>\n      <td>Maker's Mark</td>\n      <td>2020-07-02</td>\n    </tr>\n    <tr>\n      <th>2</th>\n      <td>2020-07-03 00:00:00.000000</td>\n      <td>NaN</td>\n      <td>None</td>\n      <td>None</td>\n    </tr>\n    <tr>\n      <th>3</th>\n      <td>2020-07-04 00:00:00.000000</td>\n      <td>NaN</td>\n      <td>None</td>\n      <td>None</td>\n    </tr>\n    <tr>\n      <th>4</th>\n      <td>2020-07-05 00:00:00.000000</td>\n      <td>NaN</td>\n      <td>None</td>\n      <td>None</td>\n    </tr>\n    <tr>\n      <th>5</th>\n      <td>2020-07-06 00:00:00.000000</td>\n      <td>NaN</td>\n      <td>None</td>\n      <td>None</td>\n    </tr>\n    <tr>\n      <th>6</th>\n      <td>2020-07-07 00:00:00.000000</td>\n      <td>NaN</td>\n      <td>None</td>\n      <td>None</td>\n    </tr>\n    <tr>\n      <th>7</th>\n      <td>2020-07-08 00:00:00.000000</td>\n      <td>NaN</td>\n      <td>None</td>\n      <td>None</td>\n    </tr>\n    <tr>\n      <th>8</th>\n      <td>2020-07-09 00:00:00.000000</td>\n      <td>23.99</td>\n      <td>Maker's Mark</td>\n      <td>2020-07-09</td>\n    </tr>\n    <tr>\n      <th>9</th>\n      <td>2020-07-10 00:00:00.000000</td>\n      <td>NaN</td>\n      <td>None</td>\n      <td>None</td>\n    </tr>\n    <tr>\n      <th>10</th>\n      <td>2020-07-11 00:00:00.000000</td>\n      <td>NaN</td>\n      <td>None</td>\n      <td>None</td>\n    </tr>\n    <tr>\n      <th>11</th>\n      <td>2020-07-12 00:00:00.000000</td>\n      <td>NaN</td>\n      <td>None</td>\n      <td>None</td>\n    </tr>\n    <tr>\n      <th>12</th>\n      <td>2020-07-13 00:00:00.000000</td>\n      <td>NaN</td>\n      <td>None</td>\n      <td>None</td>\n    </tr>\n    <tr>\n      <th>13</th>\n      <td>2020-07-14 00:00:00.000000</td>\n      <td>NaN</td>\n      <td>None</td>\n      <td>None</td>\n    </tr>\n    <tr>\n      <th>14</th>\n      <td>2020-07-15 00:00:00.000000</td>\n      <td>NaN</td>\n      <td>None</td>\n      <td>None</td>\n    </tr>\n    <tr>\n      <th>15</th>\n      <td>2020-07-16 00:00:00.000000</td>\n      <td>NaN</td>\n      <td>None</td>\n      <td>None</td>\n    </tr>\n    <tr>\n      <th>16</th>\n      <td>2020-07-17 00:00:00.000000</td>\n      <td>32.99</td>\n      <td>Maker's Mark</td>\n      <td>2020-07-17</td>\n    </tr>\n    <tr>\n      <th>17</th>\n      <td>2020-07-18 00:00:00.000000</td>\n      <td>28.70</td>\n      <td>Maker's Mark</td>\n      <td>2020-07-18</td>\n    </tr>\n    <tr>\n      <th>18</th>\n      <td>2020-07-19 00:00:00.000000</td>\n      <td>NaN</td>\n      <td>None</td>\n      <td>None</td>\n    </tr>\n    <tr>\n      <th>19</th>\n      <td>2020-07-20 00:00:00.000000</td>\n      <td>NaN</td>\n      <td>None</td>\n      <td>None</td>\n    </tr>\n    <tr>\n      <th>20</th>\n      <td>2020-07-21 00:00:00.000000</td>\n      <td>26.99</td>\n      <td>Maker's Mark</td>\n      <td>2020-07-21</td>\n    </tr>\n    <tr>\n      <th>21</th>\n      <td>2020-07-22 00:00:00.000000</td>\n      <td>NaN</td>\n      <td>None</td>\n      <td>None</td>\n    </tr>\n    <tr>\n      <th>22</th>\n      <td>2020-07-23 00:00:00.000000</td>\n      <td>NaN</td>\n      <td>None</td>\n      <td>None</td>\n    </tr>\n    <tr>\n      <th>23</th>\n      <td>2020-07-24 00:00:00.000000</td>\n      <td>NaN</td>\n      <td>None</td>\n      <td>None</td>\n    </tr>\n    <tr>\n      <th>24</th>\n      <td>2020-07-25 00:00:00.000000</td>\n      <td>NaN</td>\n      <td>None</td>\n      <td>None</td>\n    </tr>\n    <tr>\n      <th>25</th>\n      <td>2020-07-26 00:00:00.000000</td>\n      <td>NaN</td>\n      <td>None</td>\n      <td>None</td>\n    </tr>\n    <tr>\n      <th>26</th>\n      <td>2020-07-27 00:00:00.000000</td>\n      <td>24.99</td>\n      <td>Maker's Mark</td>\n      <td>2020-07-27</td>\n    </tr>\n    <tr>\n      <th>27</th>\n      <td>2020-07-28 00:00:00.000000</td>\n      <td>NaN</td>\n      <td>None</td>\n      <td>None</td>\n    </tr>\n  </tbody>\n</table>\n</div>"
     },
     "execution_count": 228,
     "metadata": {},
     "output_type": "execute_result"
    }
   ],
   "source": [
    "query1 = \"\"\"SELECT *\n",
    "                FROM dates\n",
    "                LEFT JOIN (SELECT SUM(s.UNIT_PRICE * s.QUANTITY) as TOTAL,\n",
    "                                b.BRAND_NAME,\n",
    "                                DATE(s.DATE) as DATE_ONLY\n",
    "                            FROM store_table s\n",
    "                            INNER JOIN brand_table b\n",
    "                            ON s.BRAND_ID = b.BRAND_ID\n",
    "                                WHERE HOLDING_COMPANY_NAME = \"Beam Suntory\"\n",
    "                            GROUP BY BRAND_NAME, DATE(s.DATE)) AS sub\n",
    "                ON DATE(DATE) = sub.DATE_ONLY\n",
    "                WHERE DATE(DATE) BETWEEN '2020-03-13' AND '2020-06-27'\"\"\"\n",
    "\n"
   ],
   "metadata": {
    "collapsed": false,
    "pycharm": {
     "name": "#%%\n"
    }
   }
  },
  {
   "cell_type": "markdown",
   "source": [
    "### Question 2"
   ],
   "metadata": {
    "collapsed": false,
    "pycharm": {
     "name": "#%% md\n"
    }
   }
  },
  {
   "cell_type": "code",
   "execution_count": null,
   "outputs": [],
   "source": [
    "query2 = \"\"\"SELECT s.PRODUCT_ID, s.STORE_ID\n",
    "            FROM store_table s\n",
    "            INNER JOIN\n",
    "                (SELECT PRODUCT_ID, min(DATE(DATE)), STORE_ID AS first_purchase\n",
    "            FROM store_table\n",
    "            WHERE STRFTIME('%Y', DATE(DATE)) = 2019);\"\"\""
   ],
   "metadata": {
    "collapsed": false,
    "pycharm": {
     "name": "#%%\n"
    }
   }
  },
  {
   "cell_type": "markdown",
   "source": [
    "### Question 3"
   ],
   "metadata": {
    "collapsed": false,
    "pycharm": {
     "name": "#%% md\n"
    }
   }
  },
  {
   "cell_type": "code",
   "execution_count": null,
   "outputs": [],
   "source": [
    "query3 = \"\"\"SELECT\n",
    "                STORE_ID,\n",
    "                count(*) as total_orders\n",
    "            FROM\n",
    "                store_table\n",
    "            WHERE\n",
    "                DATE(DATE) between '2019-12-01' and '2019-12-31'\n",
    "            GROUP BY 1;\"\"\""
   ],
   "metadata": {
    "collapsed": false,
    "pycharm": {
     "name": "#%%\n"
    }
   }
  },
  {
   "cell_type": "markdown",
   "source": [
    "This query may differ from the stores records because the same order number appears multiple times per store.\n",
    "This would cause an over count in the number of orders because each order is counted more than once."
   ],
   "metadata": {
    "collapsed": false,
    "pycharm": {
     "name": "#%% md\n"
    }
   }
  },
  {
   "cell_type": "markdown",
   "source": [
    "### Question 4\n",
    "This contains a hacky conversion from month number to month name because SQLite doesn't support MONTHNAME (which would be\n",
    "preferred over the (CASE strftime...) statement."
   ],
   "metadata": {
    "collapsed": false,
    "pycharm": {
     "name": "#%% md\n"
    }
   }
  },
  {
   "cell_type": "code",
   "execution_count": 99,
   "outputs": [
    {
     "data": {
      "text/plain": "      ORDER_ID month_ending_in_r contains_product_qty_greater_than_1\n0     32021043                 N                                   Y\n1     32540688                 N                                   N\n2     32517458                 N                                   N\n3     32557858                 N                                   N\n4     32553313                 N                                   Y\n...        ...               ...                                 ...\n1062  32561393                 N                                   Y\n1063  32455343                 N                                   N\n1064  32454333                 N                                   N\n1065  32307378                 N                                   Y\n1066  32228093                 N                                   Y\n\n[1067 rows x 3 columns]",
      "text/html": "<div>\n<style scoped>\n    .dataframe tbody tr th:only-of-type {\n        vertical-align: middle;\n    }\n\n    .dataframe tbody tr th {\n        vertical-align: top;\n    }\n\n    .dataframe thead th {\n        text-align: right;\n    }\n</style>\n<table border=\"1\" class=\"dataframe\">\n  <thead>\n    <tr style=\"text-align: right;\">\n      <th></th>\n      <th>ORDER_ID</th>\n      <th>month_ending_in_r</th>\n      <th>contains_product_qty_greater_than_1</th>\n    </tr>\n  </thead>\n  <tbody>\n    <tr>\n      <th>0</th>\n      <td>32021043</td>\n      <td>N</td>\n      <td>Y</td>\n    </tr>\n    <tr>\n      <th>1</th>\n      <td>32540688</td>\n      <td>N</td>\n      <td>N</td>\n    </tr>\n    <tr>\n      <th>2</th>\n      <td>32517458</td>\n      <td>N</td>\n      <td>N</td>\n    </tr>\n    <tr>\n      <th>3</th>\n      <td>32557858</td>\n      <td>N</td>\n      <td>N</td>\n    </tr>\n    <tr>\n      <th>4</th>\n      <td>32553313</td>\n      <td>N</td>\n      <td>Y</td>\n    </tr>\n    <tr>\n      <th>...</th>\n      <td>...</td>\n      <td>...</td>\n      <td>...</td>\n    </tr>\n    <tr>\n      <th>1062</th>\n      <td>32561393</td>\n      <td>N</td>\n      <td>Y</td>\n    </tr>\n    <tr>\n      <th>1063</th>\n      <td>32455343</td>\n      <td>N</td>\n      <td>N</td>\n    </tr>\n    <tr>\n      <th>1064</th>\n      <td>32454333</td>\n      <td>N</td>\n      <td>N</td>\n    </tr>\n    <tr>\n      <th>1065</th>\n      <td>32307378</td>\n      <td>N</td>\n      <td>Y</td>\n    </tr>\n    <tr>\n      <th>1066</th>\n      <td>32228093</td>\n      <td>N</td>\n      <td>Y</td>\n    </tr>\n  </tbody>\n</table>\n<p>1067 rows × 3 columns</p>\n</div>"
     },
     "execution_count": 99,
     "metadata": {},
     "output_type": "execute_result"
    }
   ],
   "source": [
    "query4 = \"\"\"SELECT DISTINCT s.ORDER_ID,\n",
    "                CASE\n",
    "                    WHEN EXISTS (SELECT s2.ORDER_ID, s2.DATE FROM store_table s2\n",
    "                                    WHERE\n",
    "                                  (CASE strftime('%m', date(s2.DATE)) WHEN '01' THEN 'January' WHEN '02' THEN 'February' WHEN '03' THEN 'March' WHEN '04' THEN 'April' WHEN '05' THEN 'May' WHEN '06' THEN 'June' WHEN '07' THEN 'July' WHEN '08' THEN 'August' WHEN '09' THEN 'September' WHEN '10' THEN 'October' WHEN '11' THEN 'November' WHEN '12' THEN 'December' ELSE ''\n",
    "                                        end) LIKE '%r')\n",
    "                                THEN 'Y'\n",
    "                                ELSE 'N'\n",
    "                END month_ending_in_r,\n",
    "                CASE\n",
    "                    WHEN EXISTS (SELECT s3.ORDER_ID, s3.PRODUCT_ID, s3.QUANTITY\n",
    "                                    FROM store_table s3\n",
    "                                    WHERE s.ORDER_ID = s3.ORDER_ID\n",
    "                                    GROUP BY s3.ORDER_ID, s3.PRODUCT_ID\n",
    "                                    HAVING QUANTITY > 1)\n",
    "                        THEN 'Y'\n",
    "                        ELSE 'N'\n",
    "                END contains_product_qty_greater_than_1\n",
    "                FROM store_table s;\"\"\""
   ],
   "metadata": {
    "collapsed": false,
    "pycharm": {
     "name": "#%%\n"
    }
   }
  },
  {
   "cell_type": "markdown",
   "source": [
    "### Question 5\n",
    "\n",
    "I ran out of time working on this question and was unable to verify the results."
   ],
   "metadata": {
    "collapsed": false,
    "pycharm": {
     "name": "#%% md\n"
    }
   }
  },
  {
   "cell_type": "code",
   "execution_count": 1,
   "outputs": [],
   "source": [
    "query5 = \"\"\"SELECT count(DISTINCT USER_ID)\n",
    "                FROM (SELECT s.USER_ID, s.ORDER_ID, date(s.DATE) AS DATEONLY, s.BRAND_ID, count(ORDER_ID)\n",
    "                    FROM store_table s\n",
    "                LEFT JOIN (SELECT b.BRAND_ID, b.HOLDING_COMPANY_NAME FROM brand_table b) as hc\n",
    "                ON s.BRAND_ID = hc.BRAND_ID\n",
    "                WHERE HOLDING_COMPANY_NAME = 'Diageo'\n",
    "                GROUP BY\n",
    "                        USER_ID,\n",
    "                        ORDER_ID\n",
    "                HAVING count(DISTINCT ORDER_ID) >= 3)\n",
    "                WHERE DATEONLY >= '2020-07-15'\"\"\""
   ],
   "metadata": {
    "collapsed": false,
    "pycharm": {
     "name": "#%%\n"
    }
   }
  },
  {
   "cell_type": "markdown",
   "source": [
    "### Question 6"
   ],
   "metadata": {
    "collapsed": false,
    "pycharm": {
     "name": "#%% md\n"
    }
   }
  },
  {
   "cell_type": "markdown",
   "source": [
    "This regex will match only numbers between pipe delmiters.  It will ignore the starting header (\"stores-\") as long as\n",
    "the header contains a \"-\" at the end.\n",
    "```(?<=\\-)(\\d*?)(?=\\|)|(?<=\\|)(\\d*?)(?=\\|)|(?<=\\|)(\\d*?)(?=$|\\s|\\D)```\n",
    "\n",
    "\n"
   ],
   "metadata": {
    "collapsed": false,
    "pycharm": {
     "name": "#%% md\n"
    }
   }
  }
 ],
 "metadata": {
  "kernelspec": {
   "display_name": "Python 3",
   "language": "python",
   "name": "python3"
  },
  "language_info": {
   "codemirror_mode": {
    "name": "ipython",
    "version": 2
   },
   "file_extension": ".py",
   "mimetype": "text/x-python",
   "name": "python",
   "nbconvert_exporter": "python",
   "pygments_lexer": "ipython2",
   "version": "2.7.6"
  }
 },
 "nbformat": 4,
 "nbformat_minor": 0
}